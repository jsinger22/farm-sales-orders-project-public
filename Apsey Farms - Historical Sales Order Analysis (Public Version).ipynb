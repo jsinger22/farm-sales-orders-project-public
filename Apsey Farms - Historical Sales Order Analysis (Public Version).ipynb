{
 "cells": [
  {
   "cell_type": "code",
   "execution_count": null,
   "id": "ea1d35bd",
   "metadata": {},
   "outputs": [],
   "source": [
    "import pandas as pd\n",
    "import numpy as np\n",
    "import matplotlib.pyplot as plt\n",
    "import matplotlib.dates as mdates\n",
    "from datetime import datetime\n",
    "import geopandas as gpd\n",
    "from shapely.geometry import Point, Polygon"
   ]
  },
  {
   "cell_type": "code",
   "execution_count": null,
   "id": "17bdae5f",
   "metadata": {},
   "outputs": [],
   "source": [
    "orders_clean = pd.read_csv('/Users/josh/Documents/Data Science/Apsey Farms/orders_clean.csv')"
   ]
  },
  {
   "cell_type": "code",
   "execution_count": null,
   "id": "f99837dd",
   "metadata": {},
   "outputs": [],
   "source": [
    "orders_clean.drop('Unnamed: 0',axis=1,inplace=True)"
   ]
  },
  {
   "cell_type": "code",
   "execution_count": null,
   "id": "744d278f",
   "metadata": {},
   "outputs": [],
   "source": [
    "pd.options.display.max_columns = 100"
   ]
  },
  {
   "cell_type": "code",
   "execution_count": null,
   "id": "109766db",
   "metadata": {},
   "outputs": [],
   "source": [
    "orders_clean.head()"
   ]
  },
  {
   "cell_type": "code",
   "execution_count": null,
   "id": "e429c2e8",
   "metadata": {},
   "outputs": [],
   "source": [
    "# convert 'Created at' to datetime\n",
    "orders_clean['Created at'] = pd.to_datetime(orders_clean['Created at'], utc=True).dt.tz_convert('US/Eastern')"
   ]
  },
  {
   "cell_type": "markdown",
   "id": "e8cbcb98",
   "metadata": {},
   "source": [
    "## Understanding the Customer Base"
   ]
  },
  {
   "cell_type": "code",
   "execution_count": null,
   "id": "d56ba17d",
   "metadata": {},
   "outputs": [],
   "source": [
    "# total number of unique customers\n",
    "len(orders_clean['Email'].unique())"
   ]
  },
  {
   "cell_type": "code",
   "execution_count": null,
   "id": "885d189b",
   "metadata": {},
   "outputs": [],
   "source": [
    "# recurring customers\n",
    "(orders_clean.groupby('Email').size()>1).sum()"
   ]
  },
  {
   "cell_type": "code",
   "execution_count": null,
   "id": "478b9ccb",
   "metadata": {},
   "outputs": [],
   "source": [
    "customer_order_totals = pd.DataFrame(orders_clean.groupby('Email').sum()['Subtotal'].sort_values(ascending=False)).reset_index()\n",
    "customer_order_totals"
   ]
  },
  {
   "cell_type": "code",
   "execution_count": null,
   "id": "691497f4",
   "metadata": {},
   "outputs": [],
   "source": [
    "print(customer_order_totals['Subtotal'].sum())\n",
    "print(orders_clean['Subtotal'].sum())"
   ]
  },
  {
   "cell_type": "code",
   "execution_count": null,
   "id": "e036c075",
   "metadata": {},
   "outputs": [],
   "source": [
    "total_customer_dollars = customer_order_totals['Subtotal'].sum()\n",
    "total_customer_dollars"
   ]
  },
  {
   "cell_type": "code",
   "execution_count": null,
   "id": "c6fe422a",
   "metadata": {},
   "outputs": [],
   "source": [
    "customer_order_totals['pct_of_total'] = customer_order_totals['Subtotal'] / total_customer_dollars"
   ]
  },
  {
   "cell_type": "code",
   "execution_count": null,
   "id": "2bdcbe26",
   "metadata": {},
   "outputs": [],
   "source": [
    "customer_order_totals.head()"
   ]
  },
  {
   "cell_type": "code",
   "execution_count": null,
   "id": "361c0595",
   "metadata": {},
   "outputs": [],
   "source": [
    "customer_order_totals['pct_of_total'].head(150).sum()"
   ]
  },
  {
   "cell_type": "code",
   "execution_count": null,
   "id": "5c98718f",
   "metadata": {},
   "outputs": [],
   "source": [
    "# plot running total/cumulative sum\n",
    "ax = customer_order_totals['pct_of_total'].cumsum().plot()\n",
    "ax.set(title='Cumulative Sum of Order Amount ($)', xlabel='Number of Customers', ylabel='% of Total Order Amount ($)')\n",
    "ax.axvline(x=150, color='r', linestyle='--')\n",
    "ax.axhline(y=0.75, color='r', linestyle='--');"
   ]
  },
  {
   "cell_type": "code",
   "execution_count": null,
   "id": "ef37d225",
   "metadata": {},
   "outputs": [],
   "source": [
    "# total number of orders\n",
    "orders_clean.groupby('Name').size().count()"
   ]
  },
  {
   "cell_type": "code",
   "execution_count": null,
   "id": "b3a8a8cb",
   "metadata": {},
   "outputs": [],
   "source": [
    "# recurring orders\n",
    "orders_clean['Tags'].value_counts(dropna=False)"
   ]
  },
  {
   "cell_type": "markdown",
   "id": "dd3b31e6",
   "metadata": {},
   "source": [
    "## Customer Order Amount by State"
   ]
  },
  {
   "cell_type": "code",
   "execution_count": null,
   "id": "2a2a72cc",
   "metadata": {
    "scrolled": true
   },
   "outputs": [],
   "source": [
    "state_dollars = orders_clean.groupby('Shipping Province Name').sum()[['Subtotal']]\n",
    "state_dollars.reset_index(inplace=True)\n",
    "state_dollars.rename(columns={'Shipping Province Name':'state_name','Subtotal':'order_amount'},inplace=True)\n",
    "state_dollars.sort_values('order_amount',ascending=False)"
   ]
  },
  {
   "cell_type": "code",
   "execution_count": null,
   "id": "cfc0f271",
   "metadata": {},
   "outputs": [],
   "source": [
    "print(orders_clean['Subtotal'].sum())\n",
    "print(state_dollars['order_amount'].sum())"
   ]
  },
  {
   "cell_type": "code",
   "execution_count": null,
   "id": "3ee791e5",
   "metadata": {},
   "outputs": [],
   "source": [
    "orders_clean['Shipping Province Name'].isnull().sum()"
   ]
  },
  {
   "cell_type": "code",
   "execution_count": null,
   "id": "d23202be",
   "metadata": {},
   "outputs": [],
   "source": [
    "usa = gpd.read_file('/Users/josh/Documents/Data Science/Apsey Farms/States 21basic/geo_export_99f25753-6a02-4b7a-b22f-2d3e41e2a010.shp')"
   ]
  },
  {
   "cell_type": "code",
   "execution_count": null,
   "id": "28dbd598",
   "metadata": {},
   "outputs": [],
   "source": [
    "usa.head()"
   ]
  },
  {
   "cell_type": "code",
   "execution_count": null,
   "id": "a4a245b5",
   "metadata": {},
   "outputs": [],
   "source": [
    "usa.plot();"
   ]
  },
  {
   "cell_type": "code",
   "execution_count": null,
   "id": "e6aa4437",
   "metadata": {},
   "outputs": [],
   "source": [
    "# remove Hawaii and Alaska\n",
    "state_map = usa.drop([0,50])\n",
    "state_map.plot();"
   ]
  },
  {
   "cell_type": "code",
   "execution_count": null,
   "id": "dca1fbcb",
   "metadata": {},
   "outputs": [],
   "source": [
    "state_map_dollars = pd.merge(left=state_map, right=state_dollars, how='left', on='state_name')\n",
    "state_map_dollars['order_amount'] = state_map_dollars['order_amount'].fillna(0)\n",
    "state_map_dollars.head()"
   ]
  },
  {
   "cell_type": "code",
   "execution_count": null,
   "id": "326ad09b",
   "metadata": {},
   "outputs": [],
   "source": [
    "high_dollar_states = list(state_dollars[state_dollars['order_amount']>=5000]['state_name'])\n",
    "medium_dollar_state = list(state_dollars[(state_dollars['order_amount']>=1000) & (state_dollars['order_amount']<5000)]['state_name'])\n",
    "low_dollar_states = list(state_dollars[state_dollars['order_amount']<1000]['state_name'])\n",
    "\n",
    "fig, ax = plt.subplots(figsize=(12,12))\n",
    "state_map_dollars.plot(ax=ax, edgecolor='b', alpha=0.1)\n",
    "\n",
    "for n in state_dollars['state_name']:\n",
    "    if n in high_dollar_states:\n",
    "        state_map_dollars[state_map_dollars['state_name'] == f'{n}'].plot(ax=ax, color='darkred', edgecolor='b', linewidth=1)\n",
    "    elif n in medium_dollar_state:\n",
    "        state_map_dollars[state_map_dollars['state_name'] == f'{n}'].plot(ax=ax, color='lightcoral', edgecolor='b', linewidth=1)\n",
    "    elif n in low_dollar_states:\n",
    "        state_map_dollars[state_map_dollars['state_name'] == f'{n}'].plot(ax=ax, color='mistyrose', edgecolor='b', linewidth=1)"
   ]
  },
  {
   "cell_type": "code",
   "execution_count": null,
   "id": "015f4b28",
   "metadata": {
    "scrolled": true
   },
   "outputs": [],
   "source": [
    "# which states order the most of each enterprise\n",
    "orders_clean.groupby('Shipping Province Name').sum()[['item_weight_beef','item_weight_pork',\n",
    "                                                      'item_weight_chicken','item_weight_turkey']].sort_values('item_weight_beef',ascending=False)"
   ]
  },
  {
   "cell_type": "markdown",
   "id": "e90f57a9",
   "metadata": {},
   "source": [
    "## Orders by Product Type"
   ]
  },
  {
   "cell_type": "code",
   "execution_count": null,
   "id": "fcf76fcf",
   "metadata": {},
   "outputs": [],
   "source": [
    "orders_clean.groupby('product_type').size().sort_values(ascending=False).plot.pie(autopct = '%.1f%%',\n",
    "                                                                                  colors=['cornflowerblue',\n",
    "                                                                                          'mediumseagreen',\n",
    "                                                                                          'coral'])\n",
    "plt.title('Product Type % of \\nTotal Number of Line Items Ordered')\n",
    "plt.ylabel('');"
   ]
  },
  {
   "cell_type": "code",
   "execution_count": null,
   "id": "dc4e2b41",
   "metadata": {},
   "outputs": [],
   "source": [
    "orders_clean.groupby('product_type').sum()['Subtotal'].sort_values(ascending=False).plot.pie(autopct = '%.1f%%',\n",
    "                                                                                             colors=['mediumseagreen',\n",
    "                                                                                                     'cornflowerblue',\n",
    "                                                                                                     'coral'])\n",
    "plt.title('Product Type % of Total Order Amount ($)')\n",
    "plt.ylabel('');"
   ]
  },
  {
   "cell_type": "code",
   "execution_count": null,
   "id": "36d828c9",
   "metadata": {},
   "outputs": [],
   "source": [
    "# yearly $ by product type\n",
    "annual_product_amt = pd.DataFrame(orders_clean.groupby([orders_clean['Created at'].dt.year,'product_type']).sum()['Subtotal'])\n",
    "annual_product_amt = annual_product_amt.reset_index()\n",
    "annual_product_amt = annual_product_amt.set_index(['Created at','product_type'])['Subtotal'].unstack().reset_index()\n",
    "annual_product_amt = annual_product_amt.set_index('Created at')\n",
    "annual_product_amt"
   ]
  },
  {
   "cell_type": "code",
   "execution_count": null,
   "id": "3b897c79",
   "metadata": {},
   "outputs": [],
   "source": [
    "ax = annual_product_amt.plot.bar(color=['coral','mediumseagreen','cornflowerblue'],stacked=True,rot=0)\n",
    "ax.set(xlabel='',ylabel='Order Amount ($)',title='Annual Order Amount ($) by Product Type');"
   ]
  },
  {
   "cell_type": "markdown",
   "id": "3cc7086c",
   "metadata": {},
   "source": [
    "## Orders by Enterprise"
   ]
  },
  {
   "cell_type": "code",
   "execution_count": null,
   "id": "0b5754fe",
   "metadata": {},
   "outputs": [],
   "source": [
    "orders_clean.groupby('enterprise').size().sort_values(ascending=False).plot.pie(colors=['mediumseagreen',\n",
    "                                                                                       'cornflowerblue',\n",
    "                                                                                       'coral',\n",
    "                                                                                       'plum',\n",
    "                                                                                       'papayawhip',\n",
    "                                                                                       'lightgray',\n",
    "                                                                                       'lightsalmon',\n",
    "                                                                                       'gold'],\n",
    "                                                                                autopct = '%.1f%%',\n",
    "                                                                                figsize=(6,6))\n",
    "plt.title('Enterprise % of \\nTotal Number of Line Items Ordered')\n",
    "plt.ylabel('');"
   ]
  },
  {
   "cell_type": "code",
   "execution_count": null,
   "id": "d5a7ff35",
   "metadata": {},
   "outputs": [],
   "source": [
    "orders_clean.groupby('enterprise').sum()['Subtotal'].sort_values(ascending=False).plot.pie(colors=['mediumseagreen',\n",
    "                                                                                       'papayawhip',\n",
    "                                                                                       'plum',\n",
    "                                                                                       'lightgray',\n",
    "                                                                                       'coral',\n",
    "                                                                                       'cornflowerblue',\n",
    "                                                                                       'gold',\n",
    "                                                                                       'lightsalmon'],\n",
    "                                                                                           autopct = '%.1f%%', \n",
    "                                                                                           figsize=(6,6))\n",
    "plt.title('Enterprise % of Total Order Amount ($)')\n",
    "plt.ylabel('');"
   ]
  },
  {
   "cell_type": "code",
   "execution_count": null,
   "id": "c344cc65",
   "metadata": {},
   "outputs": [],
   "source": [
    "annual_enterprise_amt = pd.DataFrame(orders_clean.groupby([orders_clean['Created at'].dt.year,'enterprise']).sum()['Subtotal'])\n",
    "annual_enterprise_amt = annual_enterprise_amt.reset_index()\n",
    "annual_enterprise_amt = annual_enterprise_amt.set_index(['Created at','enterprise'])['Subtotal'].unstack().reset_index()\n",
    "annual_enterprise_amt = annual_enterprise_amt.set_index('Created at')\n",
    "annual_enterprise_amt"
   ]
  },
  {
   "cell_type": "code",
   "execution_count": null,
   "id": "e503422a",
   "metadata": {},
   "outputs": [],
   "source": [
    "ax = annual_enterprise_amt.plot.bar(color=['mediumseagreen','plum','lightgray',\n",
    "                                           'papayawhip','coral','lightsalmon','cornflowerblue','gold'],\n",
    "                                    stacked=True,rot=0)\n",
    "ax.set(xlabel='',ylabel='Order Amount ($)',title='Annual Order Amount ($) by Enterprise')\n",
    "ax.legend(bbox_to_anchor=(1,1));"
   ]
  },
  {
   "cell_type": "markdown",
   "id": "32f31f56",
   "metadata": {},
   "source": [
    "## Orders by Enterprise-Product Type Combination"
   ]
  },
  {
   "cell_type": "code",
   "execution_count": null,
   "id": "b6f90713",
   "metadata": {},
   "outputs": [],
   "source": [
    "# number of line items\n",
    "ax = orders_clean.groupby(['enterprise','product_type']).size().sort_values().plot.barh()\n",
    "ax.set(xlabel='Number of Line Items', ylabel='', title='Total Number of Line Items by Enterprise & Product Type');"
   ]
  },
  {
   "cell_type": "code",
   "execution_count": null,
   "id": "82345c2a",
   "metadata": {},
   "outputs": [],
   "source": [
    "# order amounts\n",
    "ax = orders_clean.groupby(['enterprise','product_type']).sum()['Subtotal'].sort_values().plot.barh()\n",
    "ax.set(xlabel='Order Amount ($)', ylabel='', title='Total Order Amount by Enterprise & Product Type');"
   ]
  },
  {
   "cell_type": "markdown",
   "id": "e528eeb2",
   "metadata": {},
   "source": [
    "Create two separate dataframes then merge into one: 1) total # line items & % of total by enterprise-product combination, 2) total order amount ($) and % of total by enterprise-product combination."
   ]
  },
  {
   "cell_type": "code",
   "execution_count": null,
   "id": "30e01590",
   "metadata": {},
   "outputs": [],
   "source": [
    "# order amount by enterprise-product combinations\n",
    "order_combs_dollar = orders_clean.groupby(['enterprise','product_type']).sum()['Subtotal'].sort_values(ascending=False)\n",
    "order_combs_dollar_df = pd.DataFrame(order_combs_dollar)\n",
    "order_combs_dollar_df"
   ]
  },
  {
   "cell_type": "code",
   "execution_count": null,
   "id": "5ffebeda",
   "metadata": {},
   "outputs": [],
   "source": [
    "order_combs_dollar_df['enterprise_product_type'] = order_combs_dollar_df.index\n",
    "order_combs_dollar_df.reset_index(inplace=True)\n",
    "order_combs_dollar_df.drop(['enterprise','product_type'],axis=1,inplace=True)\n",
    "order_combs_dollar_df"
   ]
  },
  {
   "cell_type": "code",
   "execution_count": null,
   "id": "15aa3f5e",
   "metadata": {},
   "outputs": [],
   "source": [
    "# total $ for all orders\n",
    "total_orders_amt = orders_clean['Subtotal'].sum()\n",
    "\n",
    "# add % of total to order_combs_df\n",
    "order_combs_dollar_df['$_pct_of_total'] = (order_combs_dollar_df['Subtotal'] / total_orders_amt) * 100"
   ]
  },
  {
   "cell_type": "code",
   "execution_count": null,
   "id": "b721aad1",
   "metadata": {},
   "outputs": [],
   "source": [
    "# number of line items by enterprise-product combinations\n",
    "order_combs_num = orders_clean.groupby(['enterprise','product_type']).size().sort_values(ascending=False)\n",
    "order_combs_num_df = pd.DataFrame(order_combs_num)\n",
    "order_combs_num_df"
   ]
  },
  {
   "cell_type": "code",
   "execution_count": null,
   "id": "564ea582",
   "metadata": {},
   "outputs": [],
   "source": [
    "order_combs_num_df['enterprise_product_type'] = order_combs_num_df.index\n",
    "order_combs_num_df.reset_index(inplace=True)\n",
    "order_combs_num_df.drop(['enterprise','product_type'],axis=1,inplace=True)\n",
    "order_combs_num_df.rename(columns={0:'num_line_items'},inplace=True)\n",
    "order_combs_num_df"
   ]
  },
  {
   "cell_type": "code",
   "execution_count": null,
   "id": "edb6e937",
   "metadata": {},
   "outputs": [],
   "source": [
    "# total $ for all orders\n",
    "total_orders_num = len(orders_clean)\n",
    "\n",
    "# add % of total to order_combs_df\n",
    "order_combs_num_df['#_pct_of_total'] = (order_combs_num_df['num_line_items'] / total_orders_num) * 100"
   ]
  },
  {
   "cell_type": "code",
   "execution_count": null,
   "id": "bab95004",
   "metadata": {},
   "outputs": [],
   "source": [
    "order_combs_num_df"
   ]
  },
  {
   "cell_type": "code",
   "execution_count": null,
   "id": "ab6448d2",
   "metadata": {},
   "outputs": [],
   "source": [
    "# merge the two dataframes\n",
    "order_combs_final = pd.merge(left= order_combs_num_df, right=order_combs_dollar_df, how='left', on='enterprise_product_type')\n",
    "order_combs_final"
   ]
  },
  {
   "cell_type": "markdown",
   "id": "62f0c1ed",
   "metadata": {},
   "source": [
    "## Drill Down: Products Ordered - All Products"
   ]
  },
  {
   "cell_type": "code",
   "execution_count": null,
   "id": "09d5aa7e",
   "metadata": {},
   "outputs": [],
   "source": [
    "# top 20 products, not taking into account total #/weight ordered\n",
    "ax = orders_clean['item_name'].value_counts().head(20).sort_values().plot.barh(figsize=(6,6), \n",
    "                                                                          title='Top 20 Products Ordered')\n",
    "ax.set(xlabel='Number of Line Items');"
   ]
  },
  {
   "cell_type": "code",
   "execution_count": null,
   "id": "6c42b3db",
   "metadata": {},
   "outputs": [],
   "source": [
    "ax = orders_clean.groupby('item_name').sum()['Subtotal'].sort_values(ascending=False).head(20).sort_values().plot.barh(figsize=(6,6))\n",
    "ax.set(title='Top 20 Products Ordered by Amount ($): Jan 2018 - July 2021', xlabel='Amount ($)',ylabel='');"
   ]
  },
  {
   "cell_type": "code",
   "execution_count": null,
   "id": "56338348",
   "metadata": {},
   "outputs": [],
   "source": [
    "# top 5 revenue-generating products ordered by month\n",
    "top_5_products = list(orders_clean.groupby('item_name').sum()['Subtotal'].sort_values(ascending=False).head(5).index)\n",
    "top_5_products"
   ]
  },
  {
   "cell_type": "code",
   "execution_count": null,
   "id": "81f91609",
   "metadata": {},
   "outputs": [],
   "source": [
    "ax = orders_clean[orders_clean['item_name'].isin(top_5_products)].groupby('order_month').sum()['Subtotal'].plot()\n",
    "ax.set(title='Monthly Revenue for Top 5 Revenue-Generating Products', xlabel='Month of Order', ylabel='Amount ($)');"
   ]
  },
  {
   "cell_type": "code",
   "execution_count": null,
   "id": "0011f422",
   "metadata": {},
   "outputs": [],
   "source": [
    "# zoom in on 2020 and 2021\n",
    "ax = orders_clean[(orders_clean['item_name'].isin(top_5_products)) & ((orders_clean['Created at'].dt.year==2020) | (orders_clean['Created at'].dt.year==2021))].groupby('order_month').sum()['Subtotal'].plot.bar()\n",
    "ax.set(title='Monthly Revenue for Top 5 Revenue-Generating Products', xlabel='Month of Order', ylabel='Amount ($)');"
   ]
  },
  {
   "cell_type": "markdown",
   "id": "6ce05df6",
   "metadata": {},
   "source": [
    "Find the monthly average revenue"
   ]
  },
  {
   "cell_type": "code",
   "execution_count": null,
   "id": "691f088d",
   "metadata": {},
   "outputs": [],
   "source": [
    "monthly_stats = orders_clean.groupby(orders_clean['Created at'].dt.month).sum()\n",
    "monthly_stats['avg_revenue'] = monthly_stats['Subtotal']/4\n",
    "monthly_stats = monthly_stats[['Subtotal','avg_revenue']]\n",
    "monthly_stats"
   ]
  },
  {
   "cell_type": "code",
   "execution_count": null,
   "id": "b6ce74a3",
   "metadata": {},
   "outputs": [],
   "source": [
    "# we only have data through 7/2021, so avg_revenue should be 'Subtotal'/ 3 years for months 8-12\n",
    "monthly_stats.iloc[7,1] = 14455.28/3\n",
    "monthly_stats.iloc[8,1] = 11828.31/3\n",
    "monthly_stats.iloc[9,1] = 17664.57/3\n",
    "monthly_stats.iloc[10,1] = 28194.84/3\n",
    "monthly_stats.iloc[11,1] = 25061.41/3\n",
    "monthly_stats"
   ]
  },
  {
   "cell_type": "code",
   "execution_count": null,
   "id": "d56795c1",
   "metadata": {},
   "outputs": [],
   "source": [
    "# monthly averages, where Jan = 1 and Dec = 12\n",
    "ax = monthly_stats['avg_revenue'].plot.bar(rot=0)\n",
    "ax.set(title='Average Monthly Revenue from All Product Orders', xlabel='Month', ylabel='Average Amount ($)');"
   ]
  },
  {
   "cell_type": "markdown",
   "id": "1d966bd8",
   "metadata": {},
   "source": [
    "## Drill Down: Products Ordered - Single Items"
   ]
  },
  {
   "cell_type": "code",
   "execution_count": null,
   "id": "1ad2ad1b",
   "metadata": {},
   "outputs": [],
   "source": [
    "# top 10 single items by $\n",
    "single_item_orders = orders_clean[orders_clean['product_type']=='Single item']\n",
    "ax = single_item_orders.groupby('item_name').sum()['Subtotal'].sort_values(ascending=False).head(10).sort_values().plot.barh()\n",
    "ax.set(title='Top 10 Single Items Ordered by Amount ($): \\nJan 2018 - July 2021', xlabel='Amount ($)',ylabel='');"
   ]
  },
  {
   "cell_type": "code",
   "execution_count": null,
   "id": "56306ce6",
   "metadata": {},
   "outputs": [],
   "source": [
    "single_item_orders_recent = orders_clean[(orders_clean['product_type']=='Single item') & ((orders_clean['Created at'].dt.year==2020) | (orders_clean['Created at'].dt.year==2021))]\n",
    "ax = single_item_orders_recent.groupby('item_name').sum()['Subtotal'].sort_values(ascending=False).head(10).sort_values().plot.barh()\n",
    "ax.set(title='Top 10 Single Items Ordered by Amount ($): \\nJan 2020 - July 2021', xlabel='Amount ($)',ylabel='');"
   ]
  },
  {
   "cell_type": "code",
   "execution_count": null,
   "id": "af9ed333",
   "metadata": {},
   "outputs": [],
   "source": [
    "# calculate price per pound for single items\n",
    "single_item_orders['price_per_pound'] = single_item_orders['Lineitem price']/single_item_orders['total_item_weight']"
   ]
  },
  {
   "cell_type": "code",
   "execution_count": null,
   "id": "50fc3054",
   "metadata": {},
   "outputs": [],
   "source": [
    "single_item_orders.groupby('item_name').mean()['price_per_pound'].sort_values(ascending=False).head(10)"
   ]
  },
  {
   "cell_type": "code",
   "execution_count": null,
   "id": "eff2d290",
   "metadata": {},
   "outputs": [],
   "source": [
    "single_item_orders[single_item_orders['item_name']=='Beef - Hanger Steak']"
   ]
  },
  {
   "cell_type": "code",
   "execution_count": null,
   "id": "9197765b",
   "metadata": {},
   "outputs": [],
   "source": [
    "# top single items by weight - if uneven, might indicate not utilizing full carcass\n",
    "ax = single_item_orders.groupby('item_name').sum()['total_item_weight'].sort_values(ascending=False).head(10).sort_values().plot.barh()\n",
    "ax.set(title='Top 10 Single Items Ordered by Weight (lbs): \\nJan 2018 - July 2021', xlabel='Amount ($)',ylabel='');"
   ]
  },
  {
   "cell_type": "markdown",
   "id": "8c2bdc32",
   "metadata": {},
   "source": [
    "## Drill Down: Products Ordered - Bundles"
   ]
  },
  {
   "cell_type": "code",
   "execution_count": null,
   "id": "0f2064e7",
   "metadata": {},
   "outputs": [],
   "source": [
    "# top 10 bundles by $\n",
    "bundle_orders = orders_clean[orders_clean['product_type']=='Bundle']\n",
    "ax = bundle_orders.groupby('item_name').sum()['Subtotal'].sort_values(ascending=False).head(10).sort_values().plot.barh()\n",
    "ax.set(title='Top 10 Bundles Ordered by Amount ($): \\nJan 2018 - July 2021', xlabel='Amount ($)',ylabel='');"
   ]
  }
 ],
 "metadata": {
  "kernelspec": {
   "display_name": "Python 3",
   "language": "python",
   "name": "python3"
  },
  "language_info": {
   "codemirror_mode": {
    "name": "ipython",
    "version": 3
   },
   "file_extension": ".py",
   "mimetype": "text/x-python",
   "name": "python",
   "nbconvert_exporter": "python",
   "pygments_lexer": "ipython3",
   "version": "3.8.8"
  }
 },
 "nbformat": 4,
 "nbformat_minor": 5
}
