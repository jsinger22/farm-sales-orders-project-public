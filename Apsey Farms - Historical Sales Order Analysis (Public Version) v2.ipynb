{
 "cells": [
  {
   "cell_type": "markdown",
   "id": "a9ca8f96",
   "metadata": {},
   "source": [
    "Re-running and consolidating analyses 3.0, 3.1, and customer metrics on original data (through 7/22/21) but using orders_clean_v2 (from cleaning & prep v2.1) and using 'total_item_price' rather than 'Subtotal' for product analysis. "
   ]
  },
  {
   "cell_type": "code",
   "execution_count": null,
   "id": "ea1d35bd",
   "metadata": {},
   "outputs": [],
   "source": [
    "import pandas as pd\n",
    "import numpy as np\n",
    "import matplotlib.pyplot as plt\n",
    "import matplotlib.dates as mdates\n",
    "from datetime import datetime\n",
    "import geopandas as gpd\n",
    "from shapely.geometry import Point, Polygon\n",
    "from matplotlib.ticker import FormatStrFormatter, StrMethodFormatter\n",
    "from statsmodels.tsa.filters.hp_filter import hpfilter\n",
    "import lifetimes"
   ]
  },
  {
   "cell_type": "code",
   "execution_count": null,
   "id": "f1ba2b64",
   "metadata": {},
   "outputs": [],
   "source": [
    "pd.options.display.max_columns = 100"
   ]
  },
  {
   "cell_type": "code",
   "execution_count": null,
   "id": "17bdae5f",
   "metadata": {},
   "outputs": [],
   "source": [
    "orders_clean = pd.read_csv('/Users/josh/Documents/Data Science/Apsey Farms/orders_clean_v2.csv')\n",
    "orders_clean.drop('Unnamed: 0',axis=1,inplace=True)"
   ]
  },
  {
   "cell_type": "code",
   "execution_count": null,
   "id": "109766db",
   "metadata": {},
   "outputs": [],
   "source": [
    "orders_clean.head()"
   ]
  },
  {
   "cell_type": "code",
   "execution_count": null,
   "id": "e429c2e8",
   "metadata": {},
   "outputs": [],
   "source": [
    "# convert 'Created at' to datetime\n",
    "orders_clean['Created at'] = pd.to_datetime(orders_clean['Created at'], utc=True).dt.tz_convert('US/Eastern')"
   ]
  },
  {
   "cell_type": "code",
   "execution_count": null,
   "id": "4a7b7f29",
   "metadata": {},
   "outputs": [],
   "source": [
    "# create copy of orders data and convert to time series\n",
    "orders_time_series = orders_clean.copy()\n",
    "orders_time_series = orders_time_series.set_index('Created at')"
   ]
  },
  {
   "cell_type": "code",
   "execution_count": null,
   "id": "767d2ce8",
   "metadata": {},
   "outputs": [],
   "source": [
    "orders_time_series.head()"
   ]
  },
  {
   "cell_type": "code",
   "execution_count": null,
   "id": "ea6cd2e6",
   "metadata": {},
   "outputs": [],
   "source": [
    "orders_time_month = orders_time_series[['Subtotal', 'total_item_weight', 'item_weight_beef',\n",
    "                                        'item_weight_pork', 'item_weight_chicken',\n",
    "                                        'item_weight_turkey', 'total_item_price', 'dollars_beef',\n",
    "                                        'dollars_pork', 'dollars_chicken',\n",
    "                                        'dollars_turkey', 'dollars_eggs']].resample(rule='M').sum()\n",
    "\n",
    "orders_time_quarter = orders_time_series[['Subtotal', 'total_item_weight', 'item_weight_beef',\n",
    "                                        'item_weight_pork', 'item_weight_chicken',\n",
    "                                        'item_weight_turkey', 'total_item_price', 'dollars_beef',\n",
    "                                        'dollars_pork', 'dollars_chicken',\n",
    "                                        'dollars_turkey', 'dollars_eggs']].resample(rule='Q').sum()\n",
    "\n",
    "orders_time_year = orders_time_series[['Subtotal', 'total_item_weight', 'item_weight_beef',\n",
    "                                        'item_weight_pork', 'item_weight_chicken',\n",
    "                                        'item_weight_turkey', 'total_item_price', 'dollars_beef',\n",
    "                                        'dollars_pork', 'dollars_chicken',\n",
    "                                        'dollars_turkey', 'dollars_eggs']].resample(rule='Y').sum()"
   ]
  },
  {
   "cell_type": "markdown",
   "id": "fbe6d0f6",
   "metadata": {},
   "source": [
    "# Customer Analysis"
   ]
  },
  {
   "cell_type": "markdown",
   "id": "e8cbcb98",
   "metadata": {},
   "source": [
    "## Understanding the Customer Base"
   ]
  },
  {
   "cell_type": "code",
   "execution_count": null,
   "id": "6c51d395",
   "metadata": {},
   "outputs": [],
   "source": [
    "# total number of unique customers\n",
    "orders_clean['Email'].nunique()"
   ]
  },
  {
   "cell_type": "code",
   "execution_count": null,
   "id": "885d189b",
   "metadata": {},
   "outputs": [],
   "source": [
    "# recurring customers\n",
    "(orders_clean.groupby('Email').size()>1).sum()"
   ]
  },
  {
   "cell_type": "code",
   "execution_count": null,
   "id": "478b9ccb",
   "metadata": {},
   "outputs": [],
   "source": [
    "customer_order_totals = pd.DataFrame(orders_clean.groupby('Email').sum()['Subtotal'].sort_values(ascending=False)).reset_index()\n",
    "customer_order_totals"
   ]
  },
  {
   "cell_type": "code",
   "execution_count": null,
   "id": "2b3aceaf",
   "metadata": {},
   "outputs": [],
   "source": [
    "print(customer_order_totals['Subtotal'].sum())\n",
    "print(orders_clean['Subtotal'].sum())"
   ]
  },
  {
   "cell_type": "code",
   "execution_count": null,
   "id": "e036c075",
   "metadata": {},
   "outputs": [],
   "source": [
    "total_customer_dollars = customer_order_totals['Subtotal'].sum()\n",
    "total_customer_dollars"
   ]
  },
  {
   "cell_type": "code",
   "execution_count": null,
   "id": "c6fe422a",
   "metadata": {},
   "outputs": [],
   "source": [
    "customer_order_totals['pct_of_total'] = customer_order_totals['Subtotal'] / total_customer_dollars"
   ]
  },
  {
   "cell_type": "code",
   "execution_count": null,
   "id": "2bdcbe26",
   "metadata": {},
   "outputs": [],
   "source": [
    "customer_order_totals.head()"
   ]
  },
  {
   "cell_type": "code",
   "execution_count": null,
   "id": "361c0595",
   "metadata": {},
   "outputs": [],
   "source": [
    "customer_order_totals['pct_of_total'].head(150).sum()"
   ]
  },
  {
   "cell_type": "code",
   "execution_count": null,
   "id": "5c98718f",
   "metadata": {},
   "outputs": [],
   "source": [
    "# plot running total/cumulative sum\n",
    "ax = customer_order_totals['pct_of_total'].cumsum().plot()\n",
    "ax.set(title='Cumulative Sum of Order Amount ($)', xlabel='Number of Customers', ylabel='% of Total Order Amount ($)')\n",
    "ax.axvline(x=150, color='r', linestyle='--')\n",
    "ax.axhline(y=0.75, color='r', linestyle='--');"
   ]
  },
  {
   "cell_type": "code",
   "execution_count": null,
   "id": "ef37d225",
   "metadata": {},
   "outputs": [],
   "source": [
    "# total number of orders\n",
    "orders_clean.groupby('Name').size().count()"
   ]
  },
  {
   "cell_type": "code",
   "execution_count": null,
   "id": "b3a8a8cb",
   "metadata": {},
   "outputs": [],
   "source": [
    "# recurring orders\n",
    "orders_clean['Tags'].value_counts(dropna=False)"
   ]
  },
  {
   "cell_type": "markdown",
   "id": "6f96df0b",
   "metadata": {},
   "source": [
    "## Avg Order Value (AOV)\n",
    "AOV = Revenue / Number of Orders"
   ]
  },
  {
   "cell_type": "markdown",
   "id": "17750064",
   "metadata": {},
   "source": [
    "## AOV for the business over time"
   ]
  },
  {
   "cell_type": "code",
   "execution_count": null,
   "id": "797cd8fa",
   "metadata": {},
   "outputs": [],
   "source": [
    "monthly_aov = orders_time_series.fillna(value={'Subtotal': 0})"
   ]
  },
  {
   "cell_type": "code",
   "execution_count": null,
   "id": "b0aa401d",
   "metadata": {},
   "outputs": [],
   "source": [
    "monthly_aov = monthly_aov.groupby(pd.Grouper(freq='M')).agg({'Name': lambda x: x.nunique(),\n",
    "                                                       'Subtotal': lambda x: sum(x)})\n",
    "monthly_aov.columns = ['num_orders', 'total_revenue']\n",
    "monthly_aov.head()"
   ]
  },
  {
   "cell_type": "code",
   "execution_count": null,
   "id": "11c99fd0",
   "metadata": {},
   "outputs": [],
   "source": [
    "monthly_aov['avg_order_value'] = monthly_aov['total_revenue']/monthly_aov['num_orders']"
   ]
  },
  {
   "cell_type": "code",
   "execution_count": null,
   "id": "93e4fdd9",
   "metadata": {},
   "outputs": [],
   "source": [
    "monthly_aov.head()"
   ]
  },
  {
   "cell_type": "code",
   "execution_count": null,
   "id": "03d97001",
   "metadata": {},
   "outputs": [],
   "source": [
    "# Monthly AOV\n",
    "ax = monthly_aov['avg_order_value'].plot()\n",
    "ax.set(xlabel='', ylabel='Average Order Value ($)', title='Average Order Value by Month');"
   ]
  },
  {
   "cell_type": "code",
   "execution_count": null,
   "id": "9c656b9a",
   "metadata": {},
   "outputs": [],
   "source": [
    "print(monthly_aov.sort_values('avg_order_value', ascending=False).head(1))\n",
    "print(monthly_aov.sort_values('avg_order_value', ascending=False).tail(1))"
   ]
  },
  {
   "cell_type": "code",
   "execution_count": null,
   "id": "1922c624",
   "metadata": {},
   "outputs": [],
   "source": [
    "# Cumulative AOV Over Time - AOV for all previous months\n",
    "ax = monthly_aov['avg_order_value'].expanding(min_periods=1).mean().plot()\n",
    "ax.set(xlabel='', ylabel='Average Order Value ($)', title='Cumulative Average Order Value Over Time');"
   ]
  },
  {
   "cell_type": "code",
   "execution_count": null,
   "id": "2b8f5dad",
   "metadata": {},
   "outputs": [],
   "source": [
    "# moving/rolling monthly average\n",
    "monthly_aov['avg_order_value'].rolling(window=2).mean().plot()"
   ]
  },
  {
   "cell_type": "markdown",
   "id": "51ac1c24",
   "metadata": {},
   "source": [
    "## AOV per Customer\n",
    "AOV = Revenue / Number of Orders"
   ]
  },
  {
   "cell_type": "code",
   "execution_count": null,
   "id": "57b3f997",
   "metadata": {},
   "outputs": [],
   "source": [
    "# need to first replace all NaNs in Subtotal column with 0 so total_order_dollars doesn't show up as NaN\n",
    "orders_by_customer = orders_clean.fillna(value={'Subtotal': 0})"
   ]
  },
  {
   "cell_type": "code",
   "execution_count": null,
   "id": "5c851bca",
   "metadata": {},
   "outputs": [],
   "source": [
    "# transform data to customer level\n",
    "orders_by_customer = orders_by_customer.groupby('Email').agg({'Created at': lambda x: (x.max()-x.min()).days,\n",
    "                                                       'Name': lambda x: x.nunique(),\n",
    "                                                       'Subtotal': lambda x: sum(x)})\n",
    "orders_by_customer.columns = ['age','num_orders','total_order_dollars']\n",
    "orders_by_customer"
   ]
  },
  {
   "cell_type": "code",
   "execution_count": null,
   "id": "4aa18c60",
   "metadata": {},
   "outputs": [],
   "source": [
    "orders_by_customer['avg_order_value'] = orders_by_customer['total_order_dollars'] / orders_by_customer['num_orders']"
   ]
  },
  {
   "cell_type": "code",
   "execution_count": null,
   "id": "6c7a385d",
   "metadata": {},
   "outputs": [],
   "source": [
    "ax = orders_by_customer['avg_order_value'].plot.hist(bins=100)\n",
    "ax.set(xlabel='Average Order Value', ylabel='Frequency', title='Customer Distribution of Average Order Value')\n",
    "ax.xaxis.set_major_formatter(StrMethodFormatter('{x:,.0f}'));"
   ]
  },
  {
   "cell_type": "code",
   "execution_count": null,
   "id": "8d2f2902",
   "metadata": {},
   "outputs": [],
   "source": [
    "pd.DataFrame(orders_by_customer['avg_order_value'].describe()).round(2)"
   ]
  },
  {
   "cell_type": "code",
   "execution_count": null,
   "id": "056f1cab",
   "metadata": {},
   "outputs": [],
   "source": [
    "# top 10 customers by AOV\n",
    "orders_by_customer.sort_values('avg_order_value', ascending=False).head(10)"
   ]
  },
  {
   "cell_type": "code",
   "execution_count": null,
   "id": "7fb418dd",
   "metadata": {},
   "outputs": [],
   "source": [
    "# average value of total orders\n",
    "round(orders_by_customer['total_order_dollars'].mean(),2)"
   ]
  },
  {
   "cell_type": "code",
   "execution_count": null,
   "id": "dc43f5a9",
   "metadata": {},
   "outputs": [],
   "source": [
    "# average total number of orders\n",
    "round(orders_by_customer['num_orders'].mean(),2)"
   ]
  },
  {
   "cell_type": "code",
   "execution_count": null,
   "id": "09e47914",
   "metadata": {},
   "outputs": [],
   "source": [
    "# average length of customer relationship (in days) - time between customers first and most recent order\n",
    "round(orders_by_customer['age'].mean(),2)"
   ]
  },
  {
   "cell_type": "markdown",
   "id": "ef1aa2e1",
   "metadata": {},
   "source": [
    "## Customer Lifetime Value (CLV)\n",
    "CLV = ((Avg Sales * Purchase Frequency) / Churn) * Profit Margin\n",
    "\n",
    "where:\n",
    " * Avg Sales = Total Sales / Total Number of Orders\n",
    " * Purchase Frequency = Total Number of Orders / Total Unique Customers\n",
    " * Retention Rate = Total Number of Orders > 1 / Total Unique Customers\n",
    " * Churn = 1 - Retention Rate\n",
    " * Profit Margin = based on business context"
   ]
  },
  {
   "cell_type": "code",
   "execution_count": null,
   "id": "7383bce0",
   "metadata": {},
   "outputs": [],
   "source": [
    "avg_order_freq = orders_by_customer['num_orders'].mean()\n",
    "retention_rate = orders_by_customer[orders_by_customer['num_orders']>1].shape[0]/orders_by_customer.shape[0]\n",
    "churn = 1 - retention_rate"
   ]
  },
  {
   "cell_type": "markdown",
   "id": "3f3f0536",
   "metadata": {},
   "source": [
    "## CLV by Customer"
   ]
  },
  {
   "cell_type": "code",
   "execution_count": null,
   "id": "f38a4619",
   "metadata": {},
   "outputs": [],
   "source": [
    "orders_by_customer['lifetime_value'] = (orders_by_customer['avg_order_value']*avg_order_freq)/churn"
   ]
  },
  {
   "cell_type": "code",
   "execution_count": null,
   "id": "20074bc3",
   "metadata": {},
   "outputs": [],
   "source": [
    "orders_by_customer.head()"
   ]
  },
  {
   "cell_type": "code",
   "execution_count": null,
   "id": "5cd6e1e7",
   "metadata": {},
   "outputs": [],
   "source": [
    "orders_by_customer['lifetime_value'].mean()"
   ]
  },
  {
   "cell_type": "code",
   "execution_count": null,
   "id": "b0e1fccf",
   "metadata": {},
   "outputs": [],
   "source": [
    "orders_by_customer['lifetime_value'].plot.hist(bins=100)"
   ]
  },
  {
   "cell_type": "markdown",
   "id": "970dd2aa",
   "metadata": {},
   "source": [
    "Need a more complex model that takes into account whether each customer is alive (active) or not:\n",
    " * If customer is still alive, CLV = (avg_order_value * avg_order_freq)/churn  \n",
    " * If customer is not alive, CLV = total_order_dollars\n",
    " \n",
    "Let's define alive as having placed an order within the last 120 days."
   ]
  },
  {
   "cell_type": "code",
   "execution_count": null,
   "id": "587d8d4d",
   "metadata": {},
   "outputs": [],
   "source": [
    "lifetime_summary = lifetimes.utils.summary_data_from_transaction_data(orders_clean, 'Email', 'Created at', 'Subtotal')\n",
    "lifetime_summary = lifetime_summary.reset_index()\n",
    "lifetime_summary.head()"
   ]
  },
  {
   "cell_type": "code",
   "execution_count": null,
   "id": "e7bcd8bd",
   "metadata": {},
   "outputs": [],
   "source": [
    "lifetime_summary['days_since_last_order'] = lifetime_summary['T'] - lifetime_summary['recency']"
   ]
  },
  {
   "cell_type": "code",
   "execution_count": null,
   "id": "47c7e1be",
   "metadata": {
    "scrolled": true
   },
   "outputs": [],
   "source": [
    "lifetime_summary"
   ]
  },
  {
   "cell_type": "code",
   "execution_count": null,
   "id": "5bebee8e",
   "metadata": {},
   "outputs": [],
   "source": [
    "# fit the BG/NBD model to our summary data\n",
    "bgf = lifetimes.BetaGeoFitter(penalizer_coef=0.0)\n",
    "bgf.fit(lifetime_summary['frequency'], lifetime_summary['recency'], lifetime_summary['T'])"
   ]
  },
  {
   "cell_type": "code",
   "execution_count": null,
   "id": "71584eae",
   "metadata": {},
   "outputs": [],
   "source": [
    "lifetime_summary['probability_alive'] = bgf.conditional_probability_alive(lifetime_summary['frequency'],\n",
    "                                                                          lifetime_summary['recency'],\n",
    "                                                                          lifetime_summary['T'])"
   ]
  },
  {
   "cell_type": "code",
   "execution_count": null,
   "id": "f76d33ec",
   "metadata": {},
   "outputs": [],
   "source": [
    "def alive_or_not(value):\n",
    "    if value < 120:\n",
    "        return True\n",
    "    else:\n",
    "        return False"
   ]
  },
  {
   "cell_type": "code",
   "execution_count": null,
   "id": "4d34d218",
   "metadata": {},
   "outputs": [],
   "source": [
    "lifetime_summary['alive'] = lifetime_summary['days_since_last_order'].apply(alive_or_not)"
   ]
  },
  {
   "cell_type": "code",
   "execution_count": null,
   "id": "05b4953d",
   "metadata": {
    "scrolled": true
   },
   "outputs": [],
   "source": [
    "lifetime_summary"
   ]
  },
  {
   "cell_type": "code",
   "execution_count": null,
   "id": "ad33dbf0",
   "metadata": {},
   "outputs": [],
   "source": [
    "orders_by_customer_2 = orders_by_customer.copy()\n",
    "orders_by_customer_2 = orders_by_customer_2.reset_index()\n",
    "orders_by_customer_2.head()"
   ]
  },
  {
   "cell_type": "code",
   "execution_count": null,
   "id": "4eeed38a",
   "metadata": {},
   "outputs": [],
   "source": [
    "orders_by_customer_2 = pd.merge(left=orders_by_customer_2, right=lifetime_summary, how='left', on='Email')"
   ]
  },
  {
   "cell_type": "code",
   "execution_count": null,
   "id": "f395c192",
   "metadata": {},
   "outputs": [],
   "source": [
    "orders_by_customer_2['clv'] = np.where(orders_by_customer_2['alive']==True, \n",
    "                                       orders_by_customer_2['lifetime_value'],\n",
    "                                       orders_by_customer_2['total_order_dollars'])"
   ]
  },
  {
   "cell_type": "code",
   "execution_count": null,
   "id": "514f7fc5",
   "metadata": {
    "scrolled": true
   },
   "outputs": [],
   "source": [
    "orders_by_customer_2"
   ]
  },
  {
   "cell_type": "code",
   "execution_count": null,
   "id": "e1d3192f",
   "metadata": {},
   "outputs": [],
   "source": [
    "orders_by_customer_2['clv'].mean()"
   ]
  },
  {
   "cell_type": "code",
   "execution_count": null,
   "id": "bd0bd272",
   "metadata": {},
   "outputs": [],
   "source": [
    "ax = orders_by_customer_2['clv'].plot.hist(bins=100)\n",
    "ax.set(xlabel='Customer Lifetime Value', ylabel='Frequency', title='Distribution of Customer Lifetime Value')\n",
    "ax.xaxis.set_major_formatter(StrMethodFormatter('{x:,.0f}'));"
   ]
  },
  {
   "cell_type": "code",
   "execution_count": null,
   "id": "d5d9d8ac",
   "metadata": {},
   "outputs": [],
   "source": [
    "pd.DataFrame(orders_by_customer_2['clv'].describe()).round(2)"
   ]
  },
  {
   "cell_type": "code",
   "execution_count": null,
   "id": "729e6ead",
   "metadata": {},
   "outputs": [],
   "source": [
    "orders_by_customer_2[orders_by_customer_2['alive']==True]"
   ]
  },
  {
   "cell_type": "markdown",
   "id": "4e851ece",
   "metadata": {},
   "source": [
    "# Best/High-Value Customers"
   ]
  },
  {
   "cell_type": "code",
   "execution_count": null,
   "id": "2c7304c2",
   "metadata": {},
   "outputs": [],
   "source": [
    "avg_total_spend = orders_by_customer_2['total_order_dollars'].mean()\n",
    "avg_total_spend"
   ]
  },
  {
   "cell_type": "code",
   "execution_count": null,
   "id": "32059872",
   "metadata": {},
   "outputs": [],
   "source": [
    "avg_num_orders = orders_by_customer_2['num_orders'].mean()\n",
    "avg_num_orders"
   ]
  },
  {
   "cell_type": "code",
   "execution_count": null,
   "id": "7c75a282",
   "metadata": {
    "scrolled": true
   },
   "outputs": [],
   "source": [
    "active_customers = orders_by_customer_2[orders_by_customer_2['alive']==True]\n",
    "active_customers"
   ]
  },
  {
   "cell_type": "code",
   "execution_count": null,
   "id": "3d693366",
   "metadata": {
    "scrolled": true
   },
   "outputs": [],
   "source": [
    "# active customers with total spend > average total spend () & num_orders > avg num_orders\n",
    "active_high_value_customers = active_customers[(active_customers['total_order_dollars']>avg_total_spend)&(active_customers['num_orders']>avg_num_orders)]\n",
    "active_high_value_customers"
   ]
  },
  {
   "cell_type": "code",
   "execution_count": null,
   "id": "fd0f90cc",
   "metadata": {},
   "outputs": [],
   "source": [
    "top_20_customers = active_high_value_customers.sort_values('clv', ascending=False).head(20)\n",
    "top_20_customers"
   ]
  },
  {
   "cell_type": "code",
   "execution_count": null,
   "id": "e93ecaf8",
   "metadata": {},
   "outputs": [],
   "source": [
    "# top_20_customers.to_csv('top_20_customers.csv')"
   ]
  },
  {
   "cell_type": "markdown",
   "id": "dd3b31e6",
   "metadata": {},
   "source": [
    "## Customer Order Amount by State"
   ]
  },
  {
   "cell_type": "code",
   "execution_count": null,
   "id": "2a2a72cc",
   "metadata": {
    "scrolled": true
   },
   "outputs": [],
   "source": [
    "state_dollars = orders_clean.groupby('Shipping Province Name').sum()[['Subtotal']]\n",
    "state_dollars.reset_index(inplace=True)\n",
    "state_dollars.rename(columns={'Shipping Province Name':'state_name','Subtotal':'order_amount'},inplace=True)\n",
    "state_dollars.sort_values('order_amount',ascending=False)"
   ]
  },
  {
   "cell_type": "code",
   "execution_count": null,
   "id": "5cd766e0",
   "metadata": {},
   "outputs": [],
   "source": [
    "state_dollars_sorted = state_dollars.sort_values('order_amount',ascending=False)\n",
    "state_dollars_sorted = state_dollars_sorted.reset_index().drop('index',axis=1)\n",
    "state_dollars_sorted['pct_of_total'] = state_dollars_sorted['order_amount']/state_dollars_sorted['order_amount'].sum()*100"
   ]
  },
  {
   "cell_type": "code",
   "execution_count": null,
   "id": "ffb6f0ef",
   "metadata": {},
   "outputs": [],
   "source": [
    "state_dollars_sorted.head(10)"
   ]
  },
  {
   "cell_type": "code",
   "execution_count": null,
   "id": "cfc0f271",
   "metadata": {},
   "outputs": [],
   "source": [
    "print(orders_clean['Subtotal'].sum())\n",
    "print(state_dollars['order_amount'].sum())"
   ]
  },
  {
   "cell_type": "code",
   "execution_count": null,
   "id": "3ee791e5",
   "metadata": {},
   "outputs": [],
   "source": [
    "orders_clean['Shipping Province Name'].isnull().sum()"
   ]
  },
  {
   "cell_type": "code",
   "execution_count": null,
   "id": "d23202be",
   "metadata": {},
   "outputs": [],
   "source": [
    "usa = gpd.read_file('/Users/josh/Documents/Data Science/Apsey Farms/States 21basic/geo_export_99f25753-6a02-4b7a-b22f-2d3e41e2a010.shp')"
   ]
  },
  {
   "cell_type": "code",
   "execution_count": null,
   "id": "28dbd598",
   "metadata": {},
   "outputs": [],
   "source": [
    "usa.head()"
   ]
  },
  {
   "cell_type": "code",
   "execution_count": null,
   "id": "a4a245b5",
   "metadata": {},
   "outputs": [],
   "source": [
    "usa.plot();"
   ]
  },
  {
   "cell_type": "code",
   "execution_count": null,
   "id": "e6aa4437",
   "metadata": {},
   "outputs": [],
   "source": [
    "# remove Hawaii and Alaska\n",
    "state_map = usa.drop([0,50])\n",
    "state_map.plot();"
   ]
  },
  {
   "cell_type": "code",
   "execution_count": null,
   "id": "dca1fbcb",
   "metadata": {},
   "outputs": [],
   "source": [
    "state_map_dollars = pd.merge(left=state_map, right=state_dollars, how='left', on='state_name')\n",
    "state_map_dollars['order_amount'] = state_map_dollars['order_amount'].fillna(0)\n",
    "state_map_dollars.head()"
   ]
  },
  {
   "cell_type": "code",
   "execution_count": null,
   "id": "326ad09b",
   "metadata": {},
   "outputs": [],
   "source": [
    "high_dollar_states = list(state_dollars[state_dollars['order_amount']>=5000]['state_name'])\n",
    "medium_dollar_state = list(state_dollars[(state_dollars['order_amount']>=1000) & (state_dollars['order_amount']<5000)]['state_name'])\n",
    "low_dollar_states = list(state_dollars[state_dollars['order_amount']<1000]['state_name'])\n",
    "\n",
    "fig, ax = plt.subplots(figsize=(12,12))\n",
    "state_map_dollars.plot(ax=ax, edgecolor='b', alpha=0.1)\n",
    "\n",
    "for n in state_dollars['state_name']:\n",
    "    if n in high_dollar_states:\n",
    "        state_map_dollars[state_map_dollars['state_name'] == f'{n}'].plot(ax=ax, color='darkred', edgecolor='b', linewidth=1)\n",
    "    elif n in medium_dollar_state:\n",
    "        state_map_dollars[state_map_dollars['state_name'] == f'{n}'].plot(ax=ax, color='lightcoral', edgecolor='b', linewidth=1)\n",
    "    elif n in low_dollar_states:\n",
    "        state_map_dollars[state_map_dollars['state_name'] == f'{n}'].plot(ax=ax, color='mistyrose', edgecolor='b', linewidth=1)"
   ]
  },
  {
   "cell_type": "code",
   "execution_count": null,
   "id": "015f4b28",
   "metadata": {
    "scrolled": true
   },
   "outputs": [],
   "source": [
    "# which states order the most of each enterprise\n",
    "orders_clean.groupby('Shipping Province Name').sum()[['item_weight_beef','item_weight_pork',\n",
    "                                                      'item_weight_chicken','item_weight_turkey']].sort_values('item_weight_beef',ascending=False)"
   ]
  },
  {
   "cell_type": "code",
   "execution_count": null,
   "id": "1f623b57",
   "metadata": {},
   "outputs": [],
   "source": [
    "instate_orders_time = orders_time_series[orders_time_series['Shipping Province Name']=='Michigan']\n",
    "outstate_orders_time = orders_time_series[(orders_time_series['Shipping Province Name']!='Michigan') & (orders_time_series['Shipping Province Name'].notna())]"
   ]
  },
  {
   "cell_type": "code",
   "execution_count": null,
   "id": "387d61a6",
   "metadata": {},
   "outputs": [],
   "source": [
    "instate_monthly_orders = instate_orders_time[['Subtotal', 'total_item_weight', 'item_weight_beef',\n",
    "                                        'item_weight_pork', 'item_weight_chicken',\n",
    "                                        'item_weight_turkey', 'total_item_price', 'dollars_beef',\n",
    "                                        'dollars_pork', 'dollars_chicken',\n",
    "                                        'dollars_turkey', 'dollars_eggs']].resample(rule='M').sum()\n",
    "outstate_monthly_orders = outstate_orders_time[['Subtotal', 'total_item_weight', 'item_weight_beef',\n",
    "                                        'item_weight_pork', 'item_weight_chicken',\n",
    "                                        'item_weight_turkey', 'total_item_price', 'dollars_beef',\n",
    "                                        'dollars_pork', 'dollars_chicken',\n",
    "                                        'dollars_turkey', 'dollars_eggs']].resample(rule='M').sum()"
   ]
  },
  {
   "cell_type": "code",
   "execution_count": null,
   "id": "7cc0c520",
   "metadata": {},
   "outputs": [],
   "source": [
    "ax = instate_monthly_orders['Subtotal'].plot(figsize=(6,6))\n",
    "ax.set(xlabel='', ylabel='Order Amount ($)', title='Total Monthly In-State (MI) Orders ($)')\n",
    "ax.yaxis.set_major_formatter(StrMethodFormatter('{x:,.0f}'));"
   ]
  },
  {
   "cell_type": "code",
   "execution_count": null,
   "id": "b43f1fa5",
   "metadata": {},
   "outputs": [],
   "source": [
    "ax = outstate_monthly_orders['Subtotal'].plot(figsize=(6,6))\n",
    "ax.set(xlabel='', ylabel='Order Amount ($)', title='Total Monthly Out-of-State (non-MI) Orders ($)')\n",
    "ax.yaxis.set_major_formatter(StrMethodFormatter('{x:,.0f}'));"
   ]
  },
  {
   "cell_type": "code",
   "execution_count": null,
   "id": "aebc1874",
   "metadata": {},
   "outputs": [],
   "source": [
    "ax = instate_monthly_orders['Subtotal'].plot()\n",
    "ax = outstate_monthly_orders['Subtotal'].plot()\n",
    "ax.set(xlabel='', ylabel='Order Amount ($)', title='Total Monthly Orders ($): In-State v. Out-of-State')\n",
    "ax.yaxis.set_major_formatter(StrMethodFormatter('{x:,.0f}'))\n",
    "ax.legend(['In-State (MI)','Out-of-State (non-MI)']);"
   ]
  },
  {
   "cell_type": "code",
   "execution_count": null,
   "id": "3080792c",
   "metadata": {
    "scrolled": true
   },
   "outputs": [],
   "source": [
    "# zoom in on out of state spike starting Nov 2020 - which states were the biggest contributors? How many customers?\n",
    "outstate_orders_after_nov2020 = outstate_orders_time[:'2020-11-01'].groupby('Shipping Province Name').sum()['Subtotal'].sort_values(ascending=False)\n",
    "outstate_orders_after_nov2020 = pd.DataFrame(outstate_orders_after_nov2020)\n",
    "outstate_orders_after_nov2020['pct_of_total'] = outstate_orders_after_nov2020['Subtotal']/outstate_orders_after_nov2020['Subtotal'].sum()*100\n",
    "outstate_orders_after_nov2020"
   ]
  },
  {
   "cell_type": "code",
   "execution_count": null,
   "id": "d68d6ec3",
   "metadata": {},
   "outputs": [],
   "source": [
    "ax = instate_monthly_orders[['dollars_beef', 'dollars_pork',\n",
    "                    'dollars_chicken', 'dollars_turkey', 'dollars_eggs']].plot(figsize=(12,8))\n",
    "ax.set(xlabel='', ylabel='Order Amount ($)', title='Monthly In-State (MI) Order Amount ($) by Enterprise')\n",
    "ax.yaxis.set_major_formatter(StrMethodFormatter('{x:,.0f}'))\n",
    "ax.legend(['Beef','Pork','Chicken','Turkey','Eggs']);"
   ]
  },
  {
   "cell_type": "code",
   "execution_count": null,
   "id": "0ec0c3b5",
   "metadata": {},
   "outputs": [],
   "source": [
    "# orders by city (MI)\n",
    "michigan_city_orders = pd.DataFrame(instate_orders_time.groupby('Shipping City').sum()['Subtotal'].sort_values(ascending=False))\n",
    "michigan_city_orders['pct_of_total'] = michigan_city_orders['Subtotal']/michigan_city_orders['Subtotal'].sum()*100\n",
    "michigan_city_orders.head(10)"
   ]
  },
  {
   "cell_type": "code",
   "execution_count": null,
   "id": "27826ec4",
   "metadata": {},
   "outputs": [],
   "source": [
    "top10_michigan_cities = list(michigan_city_orders.head(10).index)\n",
    "top10_michigan_cities"
   ]
  },
  {
   "cell_type": "code",
   "execution_count": null,
   "id": "9fc69ddc",
   "metadata": {},
   "outputs": [],
   "source": [
    "# monthly trend of top 10 in-state cities\n",
    "ax = instate_orders_time[instate_orders_time['Shipping City'].isin(top10_michigan_cities)]['Subtotal'].resample(rule='M').sum().plot()\n",
    "ax.set(xlabel='', ylabel='Order Amount ($)', title='Monthly Order Amount ($) for Top 10 In-State (MI) Cities')\n",
    "ax.yaxis.set_major_formatter(StrMethodFormatter('{x:,.0f}'))"
   ]
  },
  {
   "cell_type": "markdown",
   "id": "d42f829a",
   "metadata": {},
   "source": [
    "# Product Analysis"
   ]
  },
  {
   "cell_type": "markdown",
   "id": "e90f57a9",
   "metadata": {},
   "source": [
    "## Orders by Product Type"
   ]
  },
  {
   "cell_type": "code",
   "execution_count": null,
   "id": "fcf76fcf",
   "metadata": {},
   "outputs": [],
   "source": [
    "orders_clean.groupby('product_type').size().sort_values(ascending=False).plot.pie(autopct = '%.1f%%',\n",
    "                                                                                  colors=['cornflowerblue',\n",
    "                                                                                          'mediumseagreen',\n",
    "                                                                                          'coral'])\n",
    "plt.title('Product Type % of \\nTotal Number of Line Items Ordered')\n",
    "plt.ylabel('');"
   ]
  },
  {
   "cell_type": "code",
   "execution_count": null,
   "id": "dc4e2b41",
   "metadata": {
    "scrolled": true
   },
   "outputs": [],
   "source": [
    "orders_clean.groupby('product_type').sum()['total_item_price'].sort_values(ascending=False).plot.pie(autopct = '%.1f%%',\n",
    "                                                                                             colors=['mediumseagreen',\n",
    "                                                                                                     'cornflowerblue',\n",
    "                                                                                                     'coral'])\n",
    "plt.title('Product Type % of Total Order Amount ($)')\n",
    "plt.ylabel('');"
   ]
  },
  {
   "cell_type": "code",
   "execution_count": null,
   "id": "36d828c9",
   "metadata": {},
   "outputs": [],
   "source": [
    "# yearly $ by product type\n",
    "annual_product_amt = pd.DataFrame(orders_clean.groupby([orders_clean['Created at'].dt.year,'product_type']).sum()['total_item_price'])\n",
    "annual_product_amt = annual_product_amt.reset_index()\n",
    "annual_product_amt = annual_product_amt.set_index(['Created at','product_type'])['total_item_price'].unstack().reset_index()\n",
    "annual_product_amt = annual_product_amt.set_index('Created at')\n",
    "annual_product_amt"
   ]
  },
  {
   "cell_type": "code",
   "execution_count": null,
   "id": "3b897c79",
   "metadata": {},
   "outputs": [],
   "source": [
    "ax = annual_product_amt.plot.bar(color=['coral','mediumseagreen','cornflowerblue'],stacked=True,rot=0)\n",
    "ax.set(xlabel='',ylabel='Order Amount ($)',title='Annual Order Amount ($) by Product Type')\n",
    "ax.yaxis.set_major_formatter(StrMethodFormatter('{x:,.0f}'));"
   ]
  },
  {
   "cell_type": "markdown",
   "id": "3cc7086c",
   "metadata": {},
   "source": [
    "## Orders by Enterprise* \n",
    "*Includes enterprise combinations e.g. Beef, Pork (not broken down at the individual enterprise level)"
   ]
  },
  {
   "cell_type": "code",
   "execution_count": null,
   "id": "0b5754fe",
   "metadata": {},
   "outputs": [],
   "source": [
    "orders_clean.groupby('enterprise').size().sort_values(ascending=False).plot.pie(colors=['mediumseagreen',\n",
    "                                                                                       'cornflowerblue',\n",
    "                                                                                       'coral',\n",
    "                                                                                       'plum',\n",
    "                                                                                       'papayawhip',\n",
    "                                                                                       'lightgray',\n",
    "                                                                                       'lightsalmon',\n",
    "                                                                                       'gold'],\n",
    "                                                                                autopct = '%.1f%%',\n",
    "                                                                                figsize=(6,6))\n",
    "plt.title('Enterprise % of \\nTotal Number of Line Items Ordered')\n",
    "plt.ylabel('');"
   ]
  },
  {
   "cell_type": "code",
   "execution_count": null,
   "id": "e33804d2",
   "metadata": {},
   "outputs": [],
   "source": [
    "orders_clean.groupby('enterprise').sum()['total_item_price'].sort_values(ascending=False)"
   ]
  },
  {
   "cell_type": "code",
   "execution_count": null,
   "id": "d5a7ff35",
   "metadata": {},
   "outputs": [],
   "source": [
    "orders_clean.groupby('enterprise').sum()['total_item_price'].sort_values(ascending=False).plot.pie(colors=['mediumseagreen',\n",
    "                                                                                       'papayawhip',\n",
    "                                                                                       'plum',\n",
    "                                                                                       'lightgray',\n",
    "                                                                                       'coral',\n",
    "                                                                                       'cornflowerblue',\n",
    "                                                                                       'gold',\n",
    "                                                                                       'lightsalmon'],\n",
    "                                                                                           autopct = '%.1f%%', \n",
    "                                                                                           figsize=(6,6))\n",
    "plt.title('Enterprise % of Total Order Amount ($)')\n",
    "plt.ylabel('');"
   ]
  },
  {
   "cell_type": "code",
   "execution_count": null,
   "id": "c344cc65",
   "metadata": {},
   "outputs": [],
   "source": [
    "annual_enterprise_amt = pd.DataFrame(orders_clean.groupby([orders_clean['Created at'].dt.year,'enterprise']).sum()['total_item_price'])\n",
    "annual_enterprise_amt = annual_enterprise_amt.reset_index()\n",
    "annual_enterprise_amt = annual_enterprise_amt.set_index(['Created at','enterprise'])['total_item_price'].unstack().reset_index()\n",
    "annual_enterprise_amt = annual_enterprise_amt.set_index('Created at')\n",
    "annual_enterprise_amt"
   ]
  },
  {
   "cell_type": "code",
   "execution_count": null,
   "id": "e503422a",
   "metadata": {},
   "outputs": [],
   "source": [
    "ax = annual_enterprise_amt.plot.bar(color=['mediumseagreen','plum','lightgray',\n",
    "                                           'papayawhip','coral','lightsalmon','cornflowerblue','gold'],\n",
    "                                    stacked=True,rot=0,figsize=(6,6))\n",
    "ax.set(xlabel='',ylabel='Order Amount ($)',title='Annual Order Amount ($) by Enterprise')\n",
    "#ax.legend(bbox_to_anchor=(1,1))\n",
    "ax.yaxis.set_major_formatter(StrMethodFormatter('{x:,.0f}'));"
   ]
  },
  {
   "cell_type": "markdown",
   "id": "83217e02",
   "metadata": {},
   "source": [
    "## Orders by Enterprise* \n",
    "*Broken down at the individual enterprise level. Individual enterprise order amounts for orders spanning more than one enterprise (e.g. Beef and Pork bundles) were calculated by dividing total order amount by number of enterprises."
   ]
  },
  {
   "cell_type": "code",
   "execution_count": null,
   "id": "55ead18e",
   "metadata": {},
   "outputs": [],
   "source": [
    "total_dollars_beef = orders_clean['dollars_beef'].sum()\n",
    "total_dollars_pork = orders_clean['dollars_pork'].sum()\n",
    "total_dollars_chicken = orders_clean['dollars_chicken'].sum()\n",
    "total_dollars_turkey = orders_clean['dollars_turkey'].sum()\n",
    "total_dollars_eggs = orders_clean['dollars_eggs'].sum()"
   ]
  },
  {
   "cell_type": "code",
   "execution_count": null,
   "id": "760deb2d",
   "metadata": {},
   "outputs": [],
   "source": [
    "total_dollars = pd.DataFrame({'enterprise':['Beef','Pork','Chicken','Turkey','Eggs'], \n",
    "              'total_dollars':[total_dollars_beef, total_dollars_pork, total_dollars_chicken, \n",
    "                               total_dollars_turkey, total_dollars_eggs]})\n",
    "total_dollars = total_dollars.set_index('enterprise')\n",
    "total_dollars"
   ]
  },
  {
   "cell_type": "code",
   "execution_count": null,
   "id": "c5424987",
   "metadata": {},
   "outputs": [],
   "source": [
    "ax = total_dollars.plot.pie(y='total_dollars', autopct = '%.1f%%', figsize=(6,6))\n",
    "ax.set(title='Enterprise % of Total Order Amount ($)',ylabel='')\n",
    "ax.get_legend().remove();"
   ]
  },
  {
   "cell_type": "code",
   "execution_count": null,
   "id": "2d9a548b",
   "metadata": {},
   "outputs": [],
   "source": [
    "ax = orders_time_year[['dollars_beef', 'dollars_pork',\n",
    "                    'dollars_chicken', 'dollars_turkey', 'dollars_eggs']].plot.bar(figsize=(6,6),stacked=True)\n",
    "ax.set(xlabel='', ylabel='Order Amount ($)', title='Annual Order Amount ($) by Enterprise')\n",
    "ax.set_xticklabels(['2018','2019','2020','2021'],rotation=0)\n",
    "ax.yaxis.set_major_formatter(StrMethodFormatter('{x:,.0f}'))\n",
    "ax.legend(['Beef','Pork','Chicken','Turkey','Eggs']);"
   ]
  },
  {
   "cell_type": "code",
   "execution_count": null,
   "id": "2ed5ed7d",
   "metadata": {},
   "outputs": [],
   "source": [
    "ax = orders_time_month[['dollars_beef', 'dollars_pork',\n",
    "                    'dollars_chicken', 'dollars_turkey', 'dollars_eggs']].plot(figsize=(12,8))\n",
    "ax.set(xlabel='', ylabel='Order Amount ($)', title='Monthly Order Amount ($) by Enterprise')\n",
    "ax.yaxis.set_major_formatter(StrMethodFormatter('{x:,.0f}'))\n",
    "ax.legend(['Beef','Pork','Chicken','Turkey','Eggs']);"
   ]
  },
  {
   "cell_type": "code",
   "execution_count": null,
   "id": "05eb1c54",
   "metadata": {},
   "outputs": [],
   "source": [
    "beef_dollars_cycle, beef_dollars_trend = hpfilter(orders_time_month['dollars_beef'],lamb=129600)\n",
    "orders_time_month['beef_dollars_trend'] = beef_dollars_trend\n",
    "\n",
    "pork_dollars_cycle, pork_dollars_trend = hpfilter(orders_time_month['dollars_pork'],lamb=129600)\n",
    "orders_time_month['pork_dollars_trend'] = pork_dollars_trend\n",
    "\n",
    "chicken_dollars_cycle, chicken_dollars_trend = hpfilter(orders_time_month['dollars_chicken'],lamb=129600)\n",
    "orders_time_month['chicken_dollars_trend'] = chicken_dollars_trend\n",
    "\n",
    "turkey_dollars_cycle, turkey_dollars_trend = hpfilter(orders_time_month['dollars_turkey'],lamb=129600)\n",
    "orders_time_month['turkey_dollars_trend'] = turkey_dollars_trend\n",
    "\n",
    "eggs_dollars_cycle, eggs_dollars_trend = hpfilter(orders_time_month['dollars_eggs'],lamb=129600)\n",
    "orders_time_month['eggs_dollars_trend'] = eggs_dollars_trend"
   ]
  },
  {
   "cell_type": "code",
   "execution_count": null,
   "id": "538db218",
   "metadata": {},
   "outputs": [],
   "source": [
    "ax = orders_time_month[['dollars_beef','beef_dollars_trend']].plot()\n",
    "ax.yaxis.set_major_formatter(StrMethodFormatter('{x:,.0f}'))\n",
    "ax.legend(['Beef Order Amount ($)','Trend'])\n",
    "ax.set(xlabel='');"
   ]
  },
  {
   "cell_type": "code",
   "execution_count": null,
   "id": "32e651d1",
   "metadata": {},
   "outputs": [],
   "source": [
    "ax = orders_time_month[['dollars_pork','pork_dollars_trend']].plot()\n",
    "ax.yaxis.set_major_formatter(StrMethodFormatter('{x:,.0f}'))\n",
    "ax.set_ylim([0,5000])\n",
    "ax.legend(['Pork Order Amount ($)','Trend'])\n",
    "ax.set(xlabel='');"
   ]
  },
  {
   "cell_type": "code",
   "execution_count": null,
   "id": "05cf9cac",
   "metadata": {},
   "outputs": [],
   "source": [
    "ax = orders_time_month[['dollars_chicken','chicken_dollars_trend']].plot()\n",
    "ax.yaxis.set_major_formatter(StrMethodFormatter('{x:,.0f}'))\n",
    "ax.legend(['Chicken Order Amount ($)','Trend'])\n",
    "ax.set(xlabel='');"
   ]
  },
  {
   "cell_type": "code",
   "execution_count": null,
   "id": "c6127629",
   "metadata": {},
   "outputs": [],
   "source": [
    "ax = orders_time_month[['dollars_turkey','turkey_dollars_trend']].plot()\n",
    "ax.yaxis.set_major_formatter(StrMethodFormatter('{x:,.0f}'))\n",
    "ax.legend(['Turkey Order Amount ($)','Trend'])\n",
    "ax.set(xlabel='');"
   ]
  },
  {
   "cell_type": "code",
   "execution_count": null,
   "id": "ee18a0bb",
   "metadata": {},
   "outputs": [],
   "source": [
    "ax = orders_time_month[['dollars_eggs','eggs_dollars_trend']].plot()\n",
    "ax.yaxis.set_major_formatter(StrMethodFormatter('{x:,.0f}'))\n",
    "ax.set_ylim([0,800])\n",
    "ax.legend(['Eggs Order Amount ($)','Trend'])\n",
    "ax.set(xlabel='');"
   ]
  },
  {
   "cell_type": "code",
   "execution_count": null,
   "id": "5dfc572d",
   "metadata": {},
   "outputs": [],
   "source": [
    "# total order amount (lbs) by enterprise\n",
    "orders_clean[['item_weight_beef','item_weight_pork','item_weight_chicken','item_weight_turkey']].sum()"
   ]
  },
  {
   "cell_type": "code",
   "execution_count": null,
   "id": "2161a717",
   "metadata": {},
   "outputs": [],
   "source": [
    "ax = orders_clean[['item_weight_beef','item_weight_pork',\n",
    "              'item_weight_chicken','item_weight_turkey']].sum().sort_values(ascending=False).plot.bar()\n",
    "ax.set_xticklabels(['Beef','Chicken','Pork','Turkey'],rotation=0)\n",
    "ax.text(-0.2,22900,'22,648')\n",
    "ax.text(0.83,7400,'6,963')\n",
    "ax.text(1.83,4800,'4,426')\n",
    "ax.text(2.83,1700,'1,127')\n",
    "ax.set_title('Total Ordered Amount (lbs) by Enterprise')\n",
    "ax.set(ylabel='Weight (lbs)')\n",
    "ax.set_ylim([0,25000])\n",
    "ax.yaxis.set_major_formatter(StrMethodFormatter('{x:,.0f}'));"
   ]
  },
  {
   "cell_type": "code",
   "execution_count": null,
   "id": "4d2a4525",
   "metadata": {},
   "outputs": [],
   "source": [
    "ax = orders_time_month[['item_weight_beef','item_weight_pork', \n",
    "                        'item_weight_chicken','item_weight_turkey']].plot(figsize=(12,8))\n",
    "ax.set(xlabel='', ylabel='Total Order Amount (lbs)', title='Monthly Order Amount (lbs) by Enterprise')\n",
    "ax.yaxis.set_major_formatter(StrMethodFormatter('{x:,.0f}'));"
   ]
  },
  {
   "cell_type": "code",
   "execution_count": null,
   "id": "6fdf500d",
   "metadata": {},
   "outputs": [],
   "source": [
    "orders_clean[orders_clean['product_type']=='Bulk item'].groupby('item_name').sum()['total_item_price']"
   ]
  },
  {
   "cell_type": "code",
   "execution_count": null,
   "id": "61b273a8",
   "metadata": {},
   "outputs": [],
   "source": [
    "ax = orders_clean[orders_clean['product_type']=='Bulk item'].groupby('item_name').sum()['total_item_price'].plot.bar()\n",
    "ax.set_xticklabels(labels=['Beef','Chicken','Turkey'],rotation=0)\n",
    "ax.set_title('Total Order Amount ($) for Bulk Orders')\n",
    "ax.set(xlabel='',ylabel='Order Amount ($)')\n",
    "ax.text(-0.15,14000,'13,824')\n",
    "ax.text(0.85,10500,'10,416')\n",
    "ax.text(1.86,1400,'1,236')\n",
    "ax.set_ylim([0,15000])\n",
    "ax.yaxis.set_major_formatter(StrMethodFormatter('{x:,.0f}'));"
   ]
  },
  {
   "cell_type": "code",
   "execution_count": null,
   "id": "c3ba57ff",
   "metadata": {},
   "outputs": [],
   "source": [
    "bulk_orders_time = orders_time_series[orders_time_series['product_type']=='Bulk item']\n",
    "bulk_orders_month = bulk_orders_time[['dollars_beef','dollars_chicken','dollars_turkey']].resample(rule='M').sum()\n",
    "bulk_orders_month.head()"
   ]
  },
  {
   "cell_type": "code",
   "execution_count": null,
   "id": "1779e5a2",
   "metadata": {},
   "outputs": [],
   "source": [
    "ax = bulk_orders_month.plot(figsize=(8,6))\n",
    "ax.set(xlabel='', ylabel='Order Amount ($)', title='Monthly Order Amount ($) for Bulk Orders')\n",
    "ax.yaxis.set_major_formatter(StrMethodFormatter('{x:,.0f}'));"
   ]
  },
  {
   "cell_type": "markdown",
   "id": "32f31f56",
   "metadata": {},
   "source": [
    "## Orders by Enterprise-Product Type Combination"
   ]
  },
  {
   "cell_type": "code",
   "execution_count": null,
   "id": "b6f90713",
   "metadata": {},
   "outputs": [],
   "source": [
    "# number of line items\n",
    "ax = orders_clean.groupby(['enterprise','product_type']).size().sort_values().plot.barh()\n",
    "ax.set(xlabel='Number of Line Items', ylabel='', title='Total Number of Line Items by Enterprise & Product Type')\n",
    "ax.xaxis.set_major_formatter(StrMethodFormatter('{x:,.0f}'));"
   ]
  },
  {
   "cell_type": "code",
   "execution_count": null,
   "id": "82345c2a",
   "metadata": {},
   "outputs": [],
   "source": [
    "# order amounts\n",
    "ax = orders_clean.groupby(['enterprise','product_type']).sum()['total_item_price'].sort_values().plot.barh()\n",
    "ax.set(xlabel='Order Amount ($)', ylabel='', title='Total Order Amount by Enterprise & Product Type')\n",
    "ax.xaxis.set_major_formatter(StrMethodFormatter('{x:,.0f}'));"
   ]
  },
  {
   "cell_type": "markdown",
   "id": "e528eeb2",
   "metadata": {},
   "source": [
    "Create two separate dataframes then merge into one: 1) total # line items & % of total by enterprise-product combination, 2) total order amount ($) and % of total by enterprise-product combination."
   ]
  },
  {
   "cell_type": "code",
   "execution_count": null,
   "id": "30e01590",
   "metadata": {},
   "outputs": [],
   "source": [
    "# order amount by enterprise-product combinations\n",
    "order_combs_dollar = orders_clean.groupby(['enterprise','product_type']).sum()['total_item_price'].sort_values(ascending=False)\n",
    "order_combs_dollar_df = pd.DataFrame(order_combs_dollar)\n",
    "order_combs_dollar_df"
   ]
  },
  {
   "cell_type": "code",
   "execution_count": null,
   "id": "5ffebeda",
   "metadata": {},
   "outputs": [],
   "source": [
    "order_combs_dollar_df['enterprise_product_type'] = order_combs_dollar_df.index\n",
    "order_combs_dollar_df.reset_index(inplace=True)\n",
    "order_combs_dollar_df.drop(['enterprise','product_type'],axis=1,inplace=True)\n",
    "order_combs_dollar_df"
   ]
  },
  {
   "cell_type": "code",
   "execution_count": null,
   "id": "15aa3f5e",
   "metadata": {},
   "outputs": [],
   "source": [
    "# total $ for all orders\n",
    "total_orders_amt = orders_clean['total_item_price'].sum()\n",
    "\n",
    "# add % of total to order_combs_df\n",
    "order_combs_dollar_df['$_pct_of_total'] = (order_combs_dollar_df['total_item_price'] / total_orders_amt) * 100"
   ]
  },
  {
   "cell_type": "code",
   "execution_count": null,
   "id": "b721aad1",
   "metadata": {},
   "outputs": [],
   "source": [
    "# number of line items by enterprise-product combinations\n",
    "order_combs_num = orders_clean.groupby(['enterprise','product_type']).size().sort_values(ascending=False)\n",
    "order_combs_num_df = pd.DataFrame(order_combs_num)\n",
    "order_combs_num_df"
   ]
  },
  {
   "cell_type": "code",
   "execution_count": null,
   "id": "564ea582",
   "metadata": {},
   "outputs": [],
   "source": [
    "order_combs_num_df['enterprise_product_type'] = order_combs_num_df.index\n",
    "order_combs_num_df.reset_index(inplace=True)\n",
    "order_combs_num_df.drop(['enterprise','product_type'],axis=1,inplace=True)\n",
    "order_combs_num_df.rename(columns={0:'num_line_items'},inplace=True)\n",
    "order_combs_num_df"
   ]
  },
  {
   "cell_type": "code",
   "execution_count": null,
   "id": "edb6e937",
   "metadata": {},
   "outputs": [],
   "source": [
    "# total $ for all orders\n",
    "total_orders_num = len(orders_clean)\n",
    "\n",
    "# add % of total to order_combs_df\n",
    "order_combs_num_df['#_pct_of_total'] = (order_combs_num_df['num_line_items'] / total_orders_num) * 100"
   ]
  },
  {
   "cell_type": "code",
   "execution_count": null,
   "id": "bab95004",
   "metadata": {},
   "outputs": [],
   "source": [
    "order_combs_num_df"
   ]
  },
  {
   "cell_type": "code",
   "execution_count": null,
   "id": "ab6448d2",
   "metadata": {},
   "outputs": [],
   "source": [
    "# merge the two dataframes\n",
    "order_combs_final = pd.merge(left= order_combs_num_df, right=order_combs_dollar_df, how='left', on='enterprise_product_type')\n",
    "order_combs_final.sort_values('total_item_price',ascending=False)"
   ]
  },
  {
   "cell_type": "code",
   "execution_count": null,
   "id": "42b49e2e",
   "metadata": {},
   "outputs": [],
   "source": [
    "order_combs_final.sum()"
   ]
  },
  {
   "cell_type": "markdown",
   "id": "62f0c1ed",
   "metadata": {},
   "source": [
    "## Drill Down: Products Ordered - All Products"
   ]
  },
  {
   "cell_type": "code",
   "execution_count": null,
   "id": "09d5aa7e",
   "metadata": {},
   "outputs": [],
   "source": [
    "# top 20 products, not taking into account total #/weight ordered\n",
    "ax = orders_clean['item_name'].value_counts().head(20).sort_values().plot.barh(figsize=(6,6), \n",
    "                                                                          title='Top 20 Products Ordered')\n",
    "ax.set(xlabel='Number of Line Items');"
   ]
  },
  {
   "cell_type": "code",
   "execution_count": null,
   "id": "6c42b3db",
   "metadata": {},
   "outputs": [],
   "source": [
    "ax = orders_clean.groupby('item_name').sum()['total_item_price'].sort_values(ascending=False).head(20).sort_values().plot.barh(figsize=(6,6))\n",
    "ax.set(title='Top 20 Products Ordered by Amount ($): Jan 2018 - July 2021', xlabel='Amount ($)',ylabel='')\n",
    "ax.xaxis.set_major_formatter(StrMethodFormatter('{x:,.0f}'));"
   ]
  },
  {
   "cell_type": "code",
   "execution_count": null,
   "id": "56338348",
   "metadata": {},
   "outputs": [],
   "source": [
    "# top 5 revenue-generating products ordered by month\n",
    "top_5_products = list(orders_clean.groupby('item_name').sum()['total_item_price'].sort_values(ascending=False).head(5).index)\n",
    "top_5_products"
   ]
  },
  {
   "cell_type": "code",
   "execution_count": null,
   "id": "81f91609",
   "metadata": {},
   "outputs": [],
   "source": [
    "ax = orders_clean[orders_clean['item_name'].isin(top_5_products)].groupby('order_month').sum()['total_item_price'].plot()\n",
    "ax.set(title='Monthly Revenue for Top 5 Revenue-Generating Products', xlabel='Month of Order', ylabel='Amount ($)')\n",
    "ax.yaxis.set_major_formatter(StrMethodFormatter('{x:,.0f}'));"
   ]
  },
  {
   "cell_type": "code",
   "execution_count": null,
   "id": "e97f0979",
   "metadata": {
    "scrolled": true
   },
   "outputs": [],
   "source": [
    "orders_clean[(orders_clean['item_name'].isin(top_5_products)) & ((orders_clean['Created at'].dt.year==2020) | (orders_clean['Created at'].dt.year==2021))].groupby('order_month').sum()['total_item_price']"
   ]
  },
  {
   "cell_type": "code",
   "execution_count": null,
   "id": "0011f422",
   "metadata": {},
   "outputs": [],
   "source": [
    "# zoom in on 2020 and 2021\n",
    "ax = orders_clean[(orders_clean['item_name'].isin(top_5_products)) & ((orders_clean['Created at'].dt.year==2020) | (orders_clean['Created at'].dt.year==2021))].groupby('order_month').sum()['total_item_price'].plot.bar()\n",
    "ax.set(title='Monthly Revenue for Top 5 Revenue-Generating Products', xlabel='Month of Order', ylabel='Amount ($)');"
   ]
  },
  {
   "cell_type": "markdown",
   "id": "6ce05df6",
   "metadata": {},
   "source": [
    "Find the monthly average revenue"
   ]
  },
  {
   "cell_type": "code",
   "execution_count": null,
   "id": "691f088d",
   "metadata": {},
   "outputs": [],
   "source": [
    "monthly_stats = orders_clean.groupby(orders_clean['Created at'].dt.month).sum()\n",
    "monthly_stats['avg_revenue'] = monthly_stats['total_item_price']/4\n",
    "monthly_stats = monthly_stats[['total_item_price','avg_revenue']]\n",
    "monthly_stats"
   ]
  },
  {
   "cell_type": "code",
   "execution_count": null,
   "id": "b6ce74a3",
   "metadata": {},
   "outputs": [],
   "source": [
    "# we only have data through 7/2021, so avg_revenue should be 'total_item_price'/ 3 years for months 8-12\n",
    "monthly_stats.iloc[7,1] = 14455.28/3\n",
    "monthly_stats.iloc[8,1] = 11828.31/3\n",
    "monthly_stats.iloc[9,1] = 17664.57/3\n",
    "monthly_stats.iloc[10,1] = 28194.84/3\n",
    "monthly_stats.iloc[11,1] = 25061.41/3\n",
    "monthly_stats"
   ]
  },
  {
   "cell_type": "code",
   "execution_count": null,
   "id": "d56795c1",
   "metadata": {},
   "outputs": [],
   "source": [
    "# monthly averages, where Jan = 1 and Dec = 12\n",
    "ax = monthly_stats['avg_revenue'].plot.bar(rot=0)\n",
    "ax.set(title='Average Monthly Revenue from All Product Orders', xlabel='Month', ylabel='Average Amount ($)')\n",
    "ax.yaxis.set_major_formatter(StrMethodFormatter('{x:,.0f}'));"
   ]
  },
  {
   "cell_type": "markdown",
   "id": "1d966bd8",
   "metadata": {},
   "source": [
    "## Drill Down: Products Ordered - Single Items"
   ]
  },
  {
   "cell_type": "code",
   "execution_count": null,
   "id": "1ad2ad1b",
   "metadata": {},
   "outputs": [],
   "source": [
    "# top 10 single items by $\n",
    "single_item_orders = orders_clean[orders_clean['product_type']=='Single item']\n",
    "ax = single_item_orders.groupby('item_name').sum()['total_item_price'].sort_values(ascending=False).head(10).sort_values().plot.barh()\n",
    "ax.set(title='Top 10 Single Items Ordered by Amount ($): \\nJan 2018 - July 2021', xlabel='Amount ($)',ylabel='')\n",
    "ax.xaxis.set_major_formatter(StrMethodFormatter('{x:,.0f}'));"
   ]
  },
  {
   "cell_type": "code",
   "execution_count": null,
   "id": "56306ce6",
   "metadata": {},
   "outputs": [],
   "source": [
    "single_item_orders_recent = orders_clean[(orders_clean['product_type']=='Single item') & ((orders_clean['Created at'].dt.year==2020) | (orders_clean['Created at'].dt.year==2021))]\n",
    "ax = single_item_orders_recent.groupby('item_name').sum()['total_item_price'].sort_values(ascending=False).head(10).sort_values().plot.barh()\n",
    "ax.set(title='Top 10 Single Items Ordered by Amount ($): \\nJan 2020 - July 2021', xlabel='Amount ($)',ylabel='')\n",
    "ax.xaxis.set_major_formatter(StrMethodFormatter('{x:,.0f}'));"
   ]
  },
  {
   "cell_type": "code",
   "execution_count": null,
   "id": "af9ed333",
   "metadata": {},
   "outputs": [],
   "source": [
    "# calculate price per pound for single items\n",
    "single_item_orders['price_per_pound'] = single_item_orders['Lineitem price']/single_item_orders['total_item_weight']"
   ]
  },
  {
   "cell_type": "code",
   "execution_count": null,
   "id": "50fc3054",
   "metadata": {},
   "outputs": [],
   "source": [
    "single_item_orders.groupby('item_name').mean()['price_per_pound'].sort_values(ascending=False).head(10)"
   ]
  },
  {
   "cell_type": "code",
   "execution_count": null,
   "id": "eff2d290",
   "metadata": {},
   "outputs": [],
   "source": [
    "single_item_orders[single_item_orders['item_name']=='Beef - Hanger Steak']"
   ]
  },
  {
   "cell_type": "code",
   "execution_count": null,
   "id": "9197765b",
   "metadata": {},
   "outputs": [],
   "source": [
    "# top single items by weight - if uneven, might indicate not utilizing full carcass\n",
    "ax = single_item_orders.groupby('item_name').sum()['total_item_weight'].sort_values(ascending=False).head(10).sort_values().plot.barh()\n",
    "ax.set(title='Top 10 Single Items Ordered by Weight (lbs): \\nJan 2018 - July 2021', xlabel='Amount (lbs)',ylabel='')\n",
    "ax.xaxis.set_major_formatter(StrMethodFormatter('{x:,.0f}'));"
   ]
  },
  {
   "cell_type": "markdown",
   "id": "8c2bdc32",
   "metadata": {},
   "source": [
    "## Drill Down: Products Ordered - Bundles"
   ]
  },
  {
   "cell_type": "code",
   "execution_count": null,
   "id": "0f2064e7",
   "metadata": {},
   "outputs": [],
   "source": [
    "# top 10 bundles by $\n",
    "bundle_orders = orders_clean[orders_clean['product_type']=='Bundle']\n",
    "ax = bundle_orders.groupby('item_name').sum()['total_item_weight'].sort_values(ascending=False).head(10).sort_values().plot.barh()\n",
    "ax.set(title='Top 10 Bundles Ordered by Amount ($): \\nJan 2018 - July 2021', xlabel='Amount ($)',ylabel='')\n",
    "ax.xaxis.set_major_formatter(StrMethodFormatter('{x:,.0f}'));\n"
   ]
  },
  {
   "cell_type": "code",
   "execution_count": null,
   "id": "057df3d3",
   "metadata": {},
   "outputs": [],
   "source": []
  }
 ],
 "metadata": {
  "kernelspec": {
   "display_name": "Python 3",
   "language": "python",
   "name": "python3"
  },
  "language_info": {
   "codemirror_mode": {
    "name": "ipython",
    "version": 3
   },
   "file_extension": ".py",
   "mimetype": "text/x-python",
   "name": "python",
   "nbconvert_exporter": "python",
   "pygments_lexer": "ipython3",
   "version": "3.8.8"
  }
 },
 "nbformat": 4,
 "nbformat_minor": 5
}
